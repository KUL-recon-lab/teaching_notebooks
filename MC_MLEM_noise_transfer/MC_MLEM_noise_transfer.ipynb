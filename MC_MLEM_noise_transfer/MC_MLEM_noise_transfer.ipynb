{
 "cells": [
  {
   "cell_type": "markdown",
   "id": "08457dd6",
   "metadata": {},
   "source": [
    "# Monte Carlo methods to investigate the noise transfer and noise correlations in PET image reconstruction using MLEM \n"
   ]
  },
  {
   "cell_type": "markdown",
   "id": "c13c5b71",
   "metadata": {},
   "source": [
    "## Background"
   ]
  },
  {
   "cell_type": "markdown",
   "id": "6f63da46",
   "metadata": {},
   "source": [
    "In Positron Emission Tomography (PET), we aim to measure the activity distribution of a radiotracer administered to a patient. Via the coincidence detection of two 511 keV photons originating from positron-electron annihilation, we can acquire information about (weighted) line integrals of the activity concentration, which can be used for tomographic image reconstruction.\n",
    "Due to limitations in the amount of radiotracer that can be safely injected into a patient, the sensitivity of scanners and the available acquisition time, **acquired projection data in PET imaging** usually suffer from **very high levels of Poisson noise**."
   ]
  },
  {
   "cell_type": "markdown",
   "id": "ad196f5a",
   "metadata": {},
   "source": [
    "<img src=\"figs/pet_acq_recon.png\" width=700/>"
   ]
  },
  {
   "cell_type": "markdown",
   "id": "a351a447",
   "metadata": {},
   "source": [
    "During the image reconstruction process, the **noise** of the data gets **transferred into the reconstructed images**. In clinical practice, the early-stopped iterative maximum likelihood expectation maximization (**MLEM**) algorithm is commonly used to reconstruct PET and SPECT images. When using early-stopped MLEM, an **analytic prediction** of the expected **noise level** in every voxel of the reconstructed image and the **noise correlations** between neighboring voxels is unfortunately **rather complicated**. Fortunately, we can use Monte Carlo techniques to simulate various noise realizations of simulated noise-free data. Reconstructions of all these noise realizations allow to us to numerically study the noise transfer from acquired data to reconstruction."
   ]
  },
  {
   "cell_type": "markdown",
   "id": "6321a31d",
   "metadata": {},
   "source": [
    "## Learning objetive"
   ]
  },
  {
   "cell_type": "markdown",
   "id": "387a70a5",
   "metadata": {},
   "source": [
    "The aim of this notebook is to learn how to investigate noise transfer and noise correlations using Monte Carlo methods. To do so, we will first simulate noise-free PET data. Second, we will generate many noise realizations by adding Poisson noise to the noise-free data. Last but not least, we will reconstruct all noise realizations using MLEM and study the noise properties by analyzing all reconstructions."
   ]
  },
  {
   "cell_type": "markdown",
   "id": "74df815c",
   "metadata": {},
   "source": [
    "**Additional background information (not needed to solve this notebook)** on MLEM is available in [this video](https://www.youtube.com/watch?v=CHKOSYdf47c) and in [this video](https://www.youtube.com/watch?v=Z70n5NCw9BY). Moreover, background information on the concept of maximum likelihood approaches are available [here](https://www.youtube.com/watch?v=uTa7g_h4c1E). Background information on PET and SPECT (**not needed to solve this notebook**)  is available [here](https://www.youtube.com/watch?v=M8DOzE2d0dw) and [here](https://www.youtube.com/watch?v=4mrtq8CeLvo&list=PLKkWkQgtnBS1tWAE3-TL1-MDKY9EUJTFP&index=2)."
   ]
  },
  {
   "cell_type": "markdown",
   "id": "6d974566",
   "metadata": {},
   "source": [
    "**This notebook provides all python functions and classes needed to simulate and reconstruct \"realistic\" 2D PET data using MLEM. It contains two bigger programming tasks (including smaller sub-tasks) that have to be solved by you.**\n",
    "\n",
    "**Task 1 focuses on the generation and analysis of Poisson noise realizations of PET data**.\n",
    "\n",
    "**Task 2 focuses on the reconstruction of all these noise realization and the analysis of the noise transfer into\n",
    "the reconstructed images.**"
   ]
  },
  {
   "cell_type": "markdown",
   "id": "8d61a1b7",
   "metadata": {},
   "source": [
    "### Module import section"
   ]
  },
  {
   "cell_type": "code",
   "execution_count": null,
   "id": "6ba0bfe2",
   "metadata": {},
   "outputs": [],
   "source": [
    "# RUN, BUT DO NOT CHANGE THIS CELL\n",
    "\n",
    "# import of modules that we need in this notebook\n",
    "# make sure that utils.py is placed in the same directory \n",
    "\n",
    "import numpy as np\n",
    "import matplotlib.pyplot as plt\n",
    "from scipy.ndimage import gaussian_filter\n",
    "from scipy.stats import pearsonr\n",
    "from utils import RotationBased2DProjector, PETAcquisitionModel, test_images, OS_MLEM\n",
    "\n",
    "# needed to get inline matplotlib plots in an IPython notebook\n",
    "%matplotlib inline"
   ]
  },
  {
   "cell_type": "markdown",
   "id": "d277d1ea",
   "metadata": {},
   "source": [
    "### Input parameter section"
   ]
  },
  {
   "cell_type": "code",
   "execution_count": null,
   "id": "90992e18",
   "metadata": {},
   "outputs": [],
   "source": [
    "# RUN, BUT DO NOT CHANGE THIS CELL\n",
    "\n",
    "# number of pixels for our images to be simulated and reconstructed\n",
    "npix = 150\n",
    "# pixel size in mm\n",
    "pix_size_mm = 4\n",
    "\n",
    "# number of iterations to use for OS-MLEM\n",
    "num_iter    = 4\n",
    "num_subsets = 20\n",
    "\n",
    "# set the default color map to Greys (white to black) for showing images\n",
    "plt.rcParams['image.cmap'] = 'Greys'"
   ]
  },
  {
   "cell_type": "markdown",
   "id": "728aa27d",
   "metadata": {},
   "source": [
    "### Setup of ground truth images\n",
    "\n",
    "We set up a simple elliptical 2D image representing a homogeneous uptake of a PET radiotracer in the abdomen and arms (```em_img```). Moreover, we also generate a corresponding attenuation image mimicking water attenuation inside the body (```att_img```). Note that the attenuation image is only needed in the forward model to model the effect of photon attenuation during data acquisition. During image reconstruction, we aim to recover the emission image from the acquired (noisy) projection data."
   ]
  },
  {
   "cell_type": "code",
   "execution_count": null,
   "id": "15d1bbe2",
   "metadata": {},
   "outputs": [],
   "source": [
    "# RUN, BUT DO NOT CHANGE THIS CELL\n",
    "\n",
    "# generate the ground truth activity (emission) and attenuation images that we use for the data simulation\n",
    "em_img, att_img = test_images(npix)"
   ]
  },
  {
   "cell_type": "code",
   "execution_count": null,
   "id": "168f5ca2",
   "metadata": {},
   "outputs": [],
   "source": [
    "# RUN, BUT DO NOT CHANGE THIS CELL\n",
    "\n",
    "# show the true activity (emission) image and the attenuation image\n",
    "fig, ax = plt.subplots(1,2)\n",
    "im0 = ax[0].imshow(em_img)\n",
    "im1 = ax[1].imshow(att_img)\n",
    "fig.colorbar(im0, ax = ax[0], location = 'bottom')\n",
    "fig.colorbar(im1, ax = ax[1], location = 'bottom')\n",
    "ax[0].set_title('ground truth activity image')\n",
    "ax[1].set_title('ground truth attenuation image')\n",
    "fig.tight_layout()\n",
    "\n",
    "print(f'image shape {em_img.shape}')"
   ]
  },
  {
   "cell_type": "markdown",
   "id": "af6c3151",
   "metadata": {},
   "source": [
    "### Simulation of noise-free data"
   ]
  },
  {
   "cell_type": "markdown",
   "id": "629acef9",
   "metadata": {},
   "source": [
    "Based on an acquisition model that includes the physics of the data acquisition process of a simplified 2D PET system, we can now simulate noise free data."
   ]
  },
  {
   "cell_type": "code",
   "execution_count": null,
   "id": "7b8d1884",
   "metadata": {},
   "outputs": [],
   "source": [
    "# RUN, BUT DO NOT CHANGE THIS CELL\n",
    "\n",
    "# setup the forward projector\"\n",
    "# the acq_model object is an abstract representation of the linear operator P (and also it's adjoint)\n",
    "proj = RotationBased2DProjector(npix, pix_size_mm = pix_size_mm, num_subsets = num_subsets)\n",
    "acq_model = PETAcquisitionModel(proj, att_img)"
   ]
  },
  {
   "cell_type": "code",
   "execution_count": null,
   "id": "3725b57f",
   "metadata": {},
   "outputs": [],
   "source": [
    "# RUN, BUT DO NOT CHANGE THIS CELL\n",
    "\n",
    "# generate noise free data by applying the acquisition model to our simulated emission image\n",
    "noise_free_data = acq_model.forward(em_img)"
   ]
  },
  {
   "cell_type": "markdown",
   "id": "3d999ddd",
   "metadata": {},
   "source": [
    "The simulated PET data is a 2D array called a *sinogram*. Every row in this sinogram contains a (corrected) parallel forward projection of our ground truth object. The dimension of the sinogram array should (180 views, 150 radial elements)."
   ]
  },
  {
   "cell_type": "code",
   "execution_count": null,
   "id": "3f80789a",
   "metadata": {},
   "outputs": [],
   "source": [
    "# RUN, BUT DO NOT CHANGE THIS CELL\n",
    "\n",
    "# show the noise-free and noisy simulated emission data (sinogram)\n",
    "fig2, ax2 = plt.subplots(1,1, figsize = (3,6))\n",
    "im2 = ax2.imshow(noise_free_data, vmin = 0, vmax = 65)\n",
    "fig2.colorbar(im2, ax = ax2, location = 'bottom')\n",
    "ax2.set_xlabel('radial element')\n",
    "ax2.set_ylabel('view')\n",
    "ax2.set_title('noise-free data')\n",
    "fig2.tight_layout()\n",
    "\n",
    "print(f'data (sinogram) shape {noise_free_data.shape}')"
   ]
  },
  {
   "cell_type": "markdown",
   "id": "980f27c9",
   "metadata": {},
   "source": [
    "### Adding noise to the noise-free data"
   ]
  },
  {
   "cell_type": "markdown",
   "id": "baf91b77",
   "metadata": {},
   "source": [
    "Based on the physics of the acquisition process (photon counting) we know that the acquired data in PET can be very well described by independent Poisson distributions. (More detailed information on why that is true can be e.g. found in this [short video](https://www.youtube.com/watch?v=QD8iekOc0u8)). To sample from independent Poisson distributions with known mean (the known mean value in every data bin of the 2D sinogram is the value obtained from the simulated noise-free data), we can use the function ```np.random.poisson``` from numpy's random module. To obtain reproducible results, we have set the **seed of the random generator** using ```np.random.seed()```. Note that if we would not set the seed explicitly, every time we would re-run the cell below, we would get a different noise realization of the same noise-free data. "
   ]
  },
  {
   "cell_type": "code",
   "execution_count": null,
   "id": "48c26bb4",
   "metadata": {},
   "outputs": [],
   "source": [
    "# RUN, BUT DO NOT CHANGE THIS CELL\n",
    "\n",
    "# add poisson noise to the data\n",
    "np.random.seed(1)\n",
    "noisy_data_1 = np.random.poisson(noise_free_data)"
   ]
  },
  {
   "cell_type": "code",
   "execution_count": null,
   "id": "e526dfab",
   "metadata": {},
   "outputs": [],
   "source": [
    "# RUN, BUT DO NOT CHANGE THIS CELL\n",
    "\n",
    "# show the noise-free and noisy simulated emission data (sinogram)\n",
    "fig3, ax3 = plt.subplots(1,2, figsize = (6,6))\n",
    "im02 = ax3[0].imshow(noise_free_data, vmin = 0, vmax = 65)\n",
    "im12 = ax3[1].imshow(noisy_data_1, vmin = 0, vmax = 65)\n",
    "fig3.colorbar(im02, ax = ax3[0], location = 'bottom')\n",
    "fig3.colorbar(im12, ax = ax3[1], location = 'bottom')\n",
    "ax3[0].set_xlabel('radial element')\n",
    "ax3[1].set_xlabel('radial element')\n",
    "ax3[0].set_ylabel('view')\n",
    "ax3[1].set_ylabel('view')\n",
    "ax3[0].set_title('noise-free data')\n",
    "ax3[1].set_title('noisy data - 1st noise realization')\n",
    "fig3.tight_layout()\n",
    "\n",
    "print(f'data (sinogram) shape {noise_free_data.shape}')"
   ]
  },
  {
   "cell_type": "markdown",
   "id": "ca2549d5",
   "metadata": {},
   "source": [
    "Let's generate a second noise realization using a different seed for numpy's random generator."
   ]
  },
  {
   "cell_type": "code",
   "execution_count": null,
   "id": "c222106c",
   "metadata": {},
   "outputs": [],
   "source": [
    "# RUN, BUT DO NOT CHANGE THIS CELL\n",
    "\n",
    "# add poisson noise to the data\n",
    "np.random.seed(2)\n",
    "noisy_data_2 = np.random.poisson(noise_free_data)"
   ]
  },
  {
   "cell_type": "markdown",
   "id": "9831bd22",
   "metadata": {},
   "source": [
    "Let's display the noise-free data, the first two noise realizations and the difference between both noise realizations to convince ourselves that the noise realizations are indeed different."
   ]
  },
  {
   "cell_type": "code",
   "execution_count": null,
   "id": "ffdaa338",
   "metadata": {},
   "outputs": [],
   "source": [
    "# RUN, BUT DO NOT CHANGE THIS CELL\n",
    "\n",
    "# show the noise-free and noisy simulated emission data (sinogram)\n",
    "fig4, ax4 = plt.subplots(1,4, figsize = (12,6))\n",
    "im04 = ax4[0].imshow(noise_free_data, vmin = 0, vmax = 75)\n",
    "im14 = ax4[1].imshow(noisy_data_1, vmin = 0, vmax = 75)\n",
    "im24 = ax4[2].imshow(noisy_data_2, vmin = 0, vmax = 75)\n",
    "im34 = ax4[3].imshow(noisy_data_2 - noisy_data_1, vmin = -30, vmax = 30, cmap = plt.cm.seismic)\n",
    "fig4.colorbar(im04, ax = ax4[0], location = 'bottom')\n",
    "fig4.colorbar(im14, ax = ax4[1], location = 'bottom')\n",
    "fig4.colorbar(im24, ax = ax4[2], location = 'bottom')\n",
    "fig4.colorbar(im34, ax = ax4[3], location = 'bottom')\n",
    "\n",
    "for axx in ax4:\n",
    "  axx.set_xlabel('radial element')\n",
    "  axx.set_ylabel('view')\n",
    "\n",
    "ax4[0].set_title('noise-free data')\n",
    "ax4[1].set_title('noisy data - 1st noise realization')\n",
    "ax4[2].set_title('noisy data - 2nd noise realization')\n",
    "ax4[3].set_title('2nd - 1st noise realization')\n",
    "fig4.tight_layout()\n",
    "\n",
    "print(f'data (sinogram) shape {noise_free_data.shape}')\n",
    "\n"
   ]
  },
  {
   "cell_type": "markdown",
   "id": "97de9fa9",
   "metadata": {},
   "source": [
    "## Task 1 - Your Turn\n",
    "\n",
    "- 1.1: Generate $n$ = 200 Poisson noise realizations of the simulated noise-free data\n",
    "- 1.2: Plot the value of the data bin [90,75] (the central bin of the 2D sinogram) for all $n$ noise realizations\n",
    "- 1.3: calculate the mean value and standard deviation of data bin [90,75] over all $n$ noise realizations. What values for the mean and standard variation of data bin [90,75] do you expect?\n",
    "- 1.4: Plot the all values of the data bin [90,75] against the all values of the data bin [90,76] and calculate the Pearson correlation coefficient between them. What do you expect for the correlation coefficient and why? To calculate the Pearson correlation coefficient, use the first argument returned ```pearsonr()``` - see [here](https://docs.scipy.org/doc/scipy/reference/generated/scipy.stats.pearsonr.html)."
   ]
  },
  {
   "cell_type": "code",
   "execution_count": null,
   "id": "6d936435",
   "metadata": {},
   "outputs": [],
   "source": [
    "#----------------------------------------------------------------------------------------------------------------\n",
    "#----------------------------------------------------------------------------------------------------------------\n",
    "#----------------------------------------------------------------------------------------------------------------\n",
    "# ADD THE SOURCE CODE FOR TASK 1.1, 1.2, 1.3, and 1.4 HERE\n",
    "\n",
    "#num_real = 200 # number of noise realizations\n",
    "\n",
    "## allocate an array of shape [num_real, 180, 100] for all noise realizations\n",
    "#all_noise_realizations = np.zeros((num_real,) + noise_free_data.shape, dtype = np.uint32)\n",
    "\n",
    "## generate num_real noise realizations in a loop\n",
    "#for i in range(num_real):\n",
    "#    all_noise_realizations[i,...] = ...\n",
    "\n",
    "# ...\n",
    "# ...\n",
    "# ...\n",
    "\n",
    "\n",
    "#----------------------------------------------------------------------------------------------------------------\n",
    "#----------------------------------------------------------------------------------------------------------------\n",
    "#----------------------------------------------------------------------------------------------------------------"
   ]
  },
  {
   "cell_type": "code",
   "execution_count": null,
   "id": "44f0e56c",
   "metadata": {},
   "outputs": [],
   "source": [
    "# UNCOMMENT THE FOLLOWING LINE AND EXECUTE TO CELL TO SEE THE SOLUTION\n",
    "#%load ../../teaching_notebooks_solutions/MC_MLEM_noise_transfer/sol_1.py"
   ]
  },
  {
   "cell_type": "markdown",
   "id": "e321a5a5",
   "metadata": {},
   "source": [
    "## Image reconstruction using MLEM\n",
    "\n"
   ]
  },
  {
   "cell_type": "markdown",
   "id": "57a92599",
   "metadata": {},
   "source": [
    "After having simulated different noise realizations of \"realistic\" 2D PET data, we can now use MLEM (with ordered subsets) to reconstruct each noise realization. To reconstruct a single noise realization (e.g. ```noisy_data_1```), you can an instance of the ```OS_MLEM``` class as shown in the next cell. In this notebook we use MLEM with 4 iterations with 20 subsets which means that image 80 updates are performed. Depending on your computing hardware, this should take ca. 1-3s."
   ]
  },
  {
   "cell_type": "code",
   "execution_count": null,
   "id": "3945df35",
   "metadata": {},
   "outputs": [],
   "source": [
    "# RUN, BUT DO NOT CHANGE THIS CELL\n",
    "\n",
    "# reconstruct the first noise realization\n",
    "reconstructor_1 = OS_MLEM(noisy_data_1, acq_model)\n",
    "recon_1 = reconstructor_1.run(num_iter, verbose = True)"
   ]
  },
  {
   "cell_type": "markdown",
   "id": "ca4d5232",
   "metadata": {},
   "source": [
    "Let's also reconstruct a different noise realization of the same noise-free data (```noisy_data_2```)."
   ]
  },
  {
   "cell_type": "code",
   "execution_count": null,
   "id": "95168676",
   "metadata": {},
   "outputs": [],
   "source": [
    "# RUN, BUT DO NOT CHANGE THIS CELL\n",
    "\n",
    "# reconstruct the second noise realization\n",
    "reconstructor_2 = OS_MLEM(noisy_data_2, acq_model)\n",
    "recon_2 = reconstructor_2.run(num_iter, verbose = True)"
   ]
  },
  {
   "cell_type": "markdown",
   "id": "e5ce3cfa",
   "metadata": {},
   "source": [
    "Let's display the grond truth emission image (the image used to simulate the noise-free data) and the reconstructions of the two noise realizations and their difference."
   ]
  },
  {
   "cell_type": "code",
   "execution_count": null,
   "id": "554577cc",
   "metadata": {},
   "outputs": [],
   "source": [
    "# RUN, BUT DO NOT CHANGE THIS CELL\n",
    "\n",
    "# show the noise-free and noisy simulated emission data (sinogram)\n",
    "fig7, ax7 = plt.subplots(1,4, figsize = (12,6))\n",
    "im07 = ax7[0].imshow(em_img,  vmin = 0, vmax = 1.4*em_img.max())\n",
    "im17 = ax7[1].imshow(recon_1, vmin = 0, vmax = 1.4*em_img.max())\n",
    "im27 = ax7[2].imshow(recon_2, vmin = 0, vmax = 1.4*em_img.max())\n",
    "im37 = ax7[3].imshow(recon_2 - recon_1, vmin = -0.5*em_img.max(), vmax = 0.5*em_img.max(), cmap = plt.cm.seismic)\n",
    "fig7.colorbar(im07, ax = ax7[0], location = 'bottom')\n",
    "fig7.colorbar(im17, ax = ax7[1], location = 'bottom')\n",
    "fig7.colorbar(im27, ax = ax7[2], location = 'bottom')\n",
    "fig7.colorbar(im37, ax = ax7[3], location = 'bottom')\n",
    "ax7[0].set_title('ground truth image')\n",
    "ax7[1].set_title('reconstr. 1st noise real')\n",
    "ax7[2].set_title('reconstr. 2nd noise real')\n",
    "ax7[3].set_title('2nd recon - 1st recon')\n",
    "fig7.tight_layout()"
   ]
  },
  {
   "cell_type": "markdown",
   "id": "735400ba",
   "metadata": {},
   "source": [
    "## Task 2 - Your turn\n",
    "\n",
    "- 2.1: Reconstruct all $n = 200$ noise realizations and store the all 2D reconstructions in a single 3D array.\n",
    "- 2.2: Calculate a 2D image (array) representing the mean reconstructed value across all $n = 200$ reconstructions in every pixel. To do so, look at the ``mean()`` method of numpy's ``ndarray`` class [here](https://numpy.org/doc/stable/reference/generated/numpy.ndarray.mean.html).\n",
    "- 2.3: Calculate a 2D image (array) representing the standard deviations of the reconstructed values across all $n = 200$ reconstructions in every pixel. To do so look at the ``std()`` method of numpy's ``ndarray`` class [here](https://numpy.org/doc/stable/reference/generated/numpy.ndarray.std.html). Use ```ddof = 1```, to get the unbiased estimate for the sample standard variation. **This image is a Monte Carlo estimate of the expected noise level in every pixel of the reconstruction.**\n",
    "- 2.4: Display the ground truth image, the reconstruction of the first noise realization, the \"mean\" image and the \"standard deviation/noise level\" image next to each other. What do you observe in the \"standard deviation/noise level\" image. Is the estimated noise level homogenous across the whole image?\n",
    "- 2.5: Calculate the Pearson correlation coefficient between the 200 reconstructed values in the central pixels [75,75] and the 200 reconstructed values of its neighboring pixels [75,75+k] for k = -5,-4,-3,-2,-1,1,0,1,2,3,4,5. Plot the correlation coefficients as a function of k. What do you observe for the noise correlation between the central pixel [75,75] and its neighboring pixels?\n",
    "- 2.6: Visualize the noise correlations with 4 scatter plots where you plot the 200 values of pixel [75,75] against the 200 values of pixel [75,75+j] for j = 1,2,3,4."
   ]
  },
  {
   "cell_type": "code",
   "execution_count": null,
   "id": "95c797b5",
   "metadata": {},
   "outputs": [],
   "source": [
    "#----------------------------------------------------------------------------------------------------------\n",
    "#----------------------------------------------------------------------------------------------------------\n",
    "#---------------------------------------------------------------------------------------------------------- \n",
    "# ADD YOUR CODE FOR TASK 2.1 HERE\n",
    "\n",
    "## allocate array to store all reconstructions\n",
    "#recons = np.zeros((num_real,) + (npix, npix))\n",
    "\n",
    "#for i in range(num_real):\n",
    "#    print(f'reconstruction of noise realization {(i+1):04}', end = '\\r')    \n",
    "#    ...\n",
    "#    ...\n",
    "#    recons[i,...] = ...\n",
    "    \n",
    "#----------------------------------------------------------------------------------------------------------\n",
    "#----------------------------------------------------------------------------------------------------------\n",
    "#----------------------------------------------------------------------------------------------------------"
   ]
  },
  {
   "cell_type": "code",
   "execution_count": null,
   "id": "8f81064b",
   "metadata": {},
   "outputs": [],
   "source": [
    "# UNCOMMENT THE FOLLOWING LINE AND EXECUTE TO CELL TO SEE THE SOLUTION\n",
    "#%load ../../teaching_notebooks_solutions/MC_MLEM_noise_transfer/sol_2_1.py"
   ]
  },
  {
   "cell_type": "code",
   "execution_count": null,
   "id": "e594b0e7",
   "metadata": {},
   "outputs": [],
   "source": [
    "#---------------------------------------------------------------------------------------------------------------\n",
    "#---------------------------------------------------------------------------------------------------------------\n",
    "#---------------------------------------------------------------------------------------------------------------\n",
    "# ADD YOUR CODE FOR TASK 2.2, 2.3 and 2.4 HERE\n",
    "\n",
    "\n",
    "\n",
    "#---------------------------------------------------------------------------------------------------------------\n",
    "#---------------------------------------------------------------------------------------------------------------\n",
    "#---------------------------------------------------------------------------------------------------------------"
   ]
  },
  {
   "cell_type": "code",
   "execution_count": null,
   "id": "5999d56d",
   "metadata": {},
   "outputs": [],
   "source": [
    "# UNCOMMENT THE FOLLOWING LINE AND EXECUTE TO CELL TO SEE THE SOLUTION\n",
    "#%load ../../teaching_notebooks_solutions/MC_MLEM_noise_transfer/sol_2_2.py"
   ]
  },
  {
   "cell_type": "code",
   "execution_count": null,
   "id": "7a63b939",
   "metadata": {},
   "outputs": [],
   "source": [
    "#---------------------------------------------------------------------------------------------------------------\n",
    "#---------------------------------------------------------------------------------------------------------------\n",
    "#---------------------------------------------------------------------------------------------------------------\n",
    "# ADD YOUR CODE FOR TASK 2.5 HERE\n",
    "\n",
    "\n",
    "\n",
    "#---------------------------------------------------------------------------------------------------------------\n",
    "#---------------------------------------------------------------------------------------------------------------\n",
    "#---------------------------------------------------------------------------------------------------------------"
   ]
  },
  {
   "cell_type": "code",
   "execution_count": null,
   "id": "1c406e2f",
   "metadata": {},
   "outputs": [],
   "source": [
    "# UNCOMMENT THE FOLLOWING LINE AND EXECUTE TO CELL TO SEE THE SOLUTION\n",
    "#%load ../../teaching_notebooks_solutions/MC_MLEM_noise_transfer/sol_2_5.py"
   ]
  },
  {
   "cell_type": "code",
   "execution_count": null,
   "id": "8ce8a657",
   "metadata": {},
   "outputs": [],
   "source": [
    "#---------------------------------------------------------------------------------------------------------------\n",
    "#---------------------------------------------------------------------------------------------------------------\n",
    "#---------------------------------------------------------------------------------------------------------------\n",
    "# ADD YOUR CODE FOR TASK 2.6 HERE\n",
    "\n",
    "\n",
    "\n",
    "#---------------------------------------------------------------------------------------------------------------\n",
    "#---------------------------------------------------------------------------------------------------------------\n",
    "#--------------------------------------------------------------------"
   ]
  },
  {
   "cell_type": "code",
   "execution_count": null,
   "id": "1dfce1fc",
   "metadata": {},
   "outputs": [],
   "source": [
    "# UNCOMMENT THE FOLLOWING LINE AND EXECUTE TO CELL TO SEE THE SOLUTION\n",
    "#%load ../../teaching_notebooks_solutions/MC_MLEM_noise_transfer/sol_2_6.py"
   ]
  }
 ],
 "metadata": {
  "kernelspec": {
   "display_name": "Python 3",
   "language": "python",
   "name": "python3"
  },
  "language_info": {
   "codemirror_mode": {
    "name": "ipython",
    "version": 3
   },
   "file_extension": ".py",
   "mimetype": "text/x-python",
   "name": "python",
   "nbconvert_exporter": "python",
   "pygments_lexer": "ipython3",
   "version": "3.9.12"
  }
 },
 "nbformat": 4,
 "nbformat_minor": 5
}
